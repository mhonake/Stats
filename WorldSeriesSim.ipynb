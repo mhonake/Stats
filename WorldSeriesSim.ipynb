{
 "cells": [
  {
   "cell_type": "markdown",
   "metadata": {},
   "source": [
    "# World Series Simulation\n",
    "\n",
    "**Author: Michael Honaker**\n",
    "\n",
    "Consider a Baseball World Series (best of 7 game series) in which team A theoretically has a *p* chance of winning each game against team B. Games are considered independent.\n",
    "\n",
    "The simulation below computes the probability of team A winning a World Series against team B."
   ]
  },
  {
   "cell_type": "code",
   "execution_count": 14,
   "metadata": {},
   "outputs": [
    {
     "name": "stdout",
     "output_type": "stream",
     "text": [
      "Team A wins the World Series 595 out of 1000 times.\n",
      "The probability of team A winning the World Series is approximately 0.595.\n"
     ]
    }
   ],
   "source": [
    "\n",
    "import random\n",
    "\n",
    "SEED = 42\n",
    "random.seed(SEED)\n",
    "\n",
    "# Number of simulated World Series\n",
    "N = 1_000\n",
    "\n",
    "# Number of games in a World Series\n",
    "GAMES = 7\n",
    "\n",
    "# Number of wins needed to win the World Series\n",
    "WINS = 4\n",
    "\n",
    "# Probability of team A winning a game\n",
    "P_A = 0.55\n",
    "\n",
    "ws_wins_A = 0\n",
    "\n",
    "for iWS in range(N):\n",
    "\n",
    "    # Reset the number of wins for each team at the start of a new World Series\n",
    "    wins_A = 0\n",
    "    wins_B = 0\n",
    "\n",
    "    for iGame in range(GAMES):\n",
    "\n",
    "        # team A wins a game if uniform random number drawn from the range [0,1) is less than p.\n",
    "        if random.random() < P_A:\n",
    "            wins_A += 1\n",
    "        else:\n",
    "            wins_B += 1\n",
    "\n",
    "        # Check if either team has won the World Series\n",
    "        if wins_A == WINS:\n",
    "            ws_wins_A += 1\n",
    "            break\n",
    "        elif wins_B == WINS:\n",
    "            break\n",
    "\n",
    "print(f\"Team A wins the World Series {ws_wins_A} out of {N} times.\")\n",
    "print(f\"The probability of team A winning the World Series is approximately {ws_wins_A / N:.3f}.\")"
   ]
  }
 ],
 "metadata": {
  "kernelspec": {
   "display_name": "Python 3",
   "language": "python",
   "name": "python3"
  },
  "language_info": {
   "codemirror_mode": {
    "name": "ipython",
    "version": 3
   },
   "file_extension": ".py",
   "mimetype": "text/x-python",
   "name": "python",
   "nbconvert_exporter": "python",
   "pygments_lexer": "ipython3",
   "version": "3.13.3"
  }
 },
 "nbformat": 4,
 "nbformat_minor": 2
}
