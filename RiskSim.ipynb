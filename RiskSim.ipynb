{
 "cells": [
  {
   "cell_type": "markdown",
   "metadata": {},
   "source": [
    "# The Game of Risk\n",
    "\n",
    "**Author: Michael Honaker**\n",
    "\n",
    "In the game of Risk, armies battle via dice throws. Suppose, a defender's position is so weak that only one 6-sided die can be thrown. The attacker on the other hand has sufficient armies to justify up to three dice if desired. In a battle, the defending die is compared with the attacking dice. If any of the attacking dice strictly exceed the defending die, the attacker wins.\n",
    "\n",
    "The simulation below computes the probability of the attacker winning for all counts of attacker dice up to and including `N_max_attacker`."
   ]
  },
  {
   "cell_type": "code",
   "execution_count": 17,
   "metadata": {},
   "outputs": [
    {
     "name": "stdout",
     "output_type": "stream",
     "text": [
      "Probability of attacker winning when rolling 1 die: 0.41608\n",
      "Probability of attacker winning when rolling 2 dice: 0.5783\n",
      "Probability of attacker winning when rolling 3 dice: 0.65905\n"
     ]
    }
   ],
   "source": [
    "import random\n",
    "\n",
    "SEED = 42\n",
    "random.seed(SEED)\n",
    "\n",
    "# Number of simulated games\n",
    "N = 1_000_000\n",
    "\n",
    "# Maximum number of dice the attacker can roll\n",
    "N_max_attacker = 3\n",
    "\n",
    "# Count the number of wins for the attacker for each possible number of dice rolled\n",
    "attacker_wins = [0] * N_max_attacker\n",
    "\n",
    "for iGame in range(N):\n",
    "\n",
    "    # Defender always rolls 1 die\n",
    "    die_defender = random.randint(1, 6)\n",
    "\n",
    "    # Attacker rolls up to N_max_attacker dice\n",
    "    dice_attacker_full = [random.randint(1, 6) for _ in range(N_max_attacker)]\n",
    "\n",
    "    for iSubgame in range(N_max_attacker):\n",
    "\n",
    "        dice_attacker = dice_attacker_full[:iSubgame+1]\n",
    "\n",
    "        if max(dice_attacker) > die_defender:\n",
    "            attacker_wins[iSubgame] += 1\n",
    "\n",
    "# Print the results\n",
    "for N_attacker_dice in range(1, N_max_attacker + 1):\n",
    "    if N_attacker_dice == 1:\n",
    "        grammar = \"die\"\n",
    "    else:\n",
    "        grammar = \"dice\"\n",
    "\n",
    "    print(f\"Probability of attacker winning when rolling {N_attacker_dice} {grammar}: {attacker_wins[N_attacker_dice-1]/N:.5}\")"
   ]
  }
 ],
 "metadata": {
  "kernelspec": {
   "display_name": "Python 3",
   "language": "python",
   "name": "python3"
  },
  "language_info": {
   "codemirror_mode": {
    "name": "ipython",
    "version": 3
   },
   "file_extension": ".py",
   "mimetype": "text/x-python",
   "name": "python",
   "nbconvert_exporter": "python",
   "pygments_lexer": "ipython3",
   "version": "3.13.3"
  }
 },
 "nbformat": 4,
 "nbformat_minor": 2
}
