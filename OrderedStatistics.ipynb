{
 "cells": [
  {
   "cell_type": "markdown",
   "id": "c329eeaa",
   "metadata": {},
   "source": [
    "# Ordered Statistics"
   ]
  },
  {
   "cell_type": "code",
   "execution_count": 45,
   "id": "bf8acd21",
   "metadata": {},
   "outputs": [],
   "source": [
    "import numpy as np"
   ]
  },
  {
   "cell_type": "markdown",
   "id": "6f982326",
   "metadata": {},
   "source": [
    "## MC 3.10.4"
   ]
  },
  {
   "cell_type": "code",
   "execution_count": 50,
   "id": "0f4d2cd7",
   "metadata": {},
   "outputs": [
    {
     "name": "stdout",
     "output_type": "stream",
     "text": [
      "P(Y'(1) < 0.6 < Y'(5)) = 0.8960\n"
     ]
    }
   ],
   "source": [
    "SEED = 42\n",
    "np.random.seed(SEED)\n",
    "\n",
    "# Run N trials\n",
    "N = 1000\n",
    "\n",
    "# Take k samples at each trial\n",
    "k = 5\n",
    "\n",
    "# Check which order statistics contain check\n",
    "check = 0.6\n",
    "\n",
    "Y = np.zeros((N,k))\n",
    "\n",
    "for i in range(N):\n",
    "    # Perform inverse transform sampling\n",
    "    u = np.random.uniform(0,1,k)\n",
    "\n",
    "    # For the pdf f(y) = 2y, 0<=y<=1, the cdf is F(y) = y^2\n",
    "    # u = F(y) = y^2  =>  y = sqrt(u)\n",
    "    y = np.sqrt(u)\n",
    "    y.sort()\n",
    "    Y[i,:] = y\n",
    "\n",
    "# Compute P(Y'(i) < check < Y'(k))\n",
    "count = 0\n",
    "for i in range(N):\n",
    "    if Y[i,0] < check < Y[i,-1]:\n",
    "        count += 1\n",
    "\n",
    "print(f\"P(Y'(1) < {check} < Y'({k})) = {count/N:.4f}\")"
   ]
  },
  {
   "cell_type": "markdown",
   "id": "ff2fea4c",
   "metadata": {},
   "source": [
    "## MC 3.10.6"
   ]
  },
  {
   "cell_type": "code",
   "execution_count": 47,
   "id": "2a4eb113",
   "metadata": {},
   "outputs": [
    {
     "name": "stdout",
     "output_type": "stream",
     "text": [
      "P(Y'(1) < 0.2) = 0.9210\n"
     ]
    }
   ],
   "source": [
    "SEED = 42\n",
    "np.random.seed(SEED)\n",
    "\n",
    "# Run N trials\n",
    "N = 1000\n",
    "\n",
    "# Take n samples at each trial\n",
    "k = 12\n",
    "\n",
    "# Check which order statistics contain check\n",
    "check = 0.2\n",
    "\n",
    "Y = np.zeros((N,k))\n",
    "\n",
    "for i in range(N):\n",
    "    # Perform inverse transform sampling\n",
    "    u = np.random.uniform(0,1,k)\n",
    "\n",
    "    # For the pdf f(y) = e^(-y), y >= 0, the cdf is F(y) = 1 - e^(-y)\n",
    "    # u = F(y) = 1 - e^(-y)  =>  y = -ln(1-u)\n",
    "    y = -np.log(1-u)\n",
    "    y.sort()\n",
    "    Y[i,:] = y\n",
    "\n",
    "# Compute P(Y'(i) < check\n",
    "count = 0\n",
    "for i in range(N):\n",
    "    if Y[i,0] < check:\n",
    "        count += 1\n",
    "\n",
    "print(f\"P(Y'(1) < {check}) = {count/N:.4f}\")"
   ]
  }
 ],
 "metadata": {
  "kernelspec": {
   "display_name": "Python 3",
   "language": "python",
   "name": "python3"
  },
  "language_info": {
   "codemirror_mode": {
    "name": "ipython",
    "version": 3
   },
   "file_extension": ".py",
   "mimetype": "text/x-python",
   "name": "python",
   "nbconvert_exporter": "python",
   "pygments_lexer": "ipython3",
   "version": "3.13.3"
  }
 },
 "nbformat": 4,
 "nbformat_minor": 5
}
